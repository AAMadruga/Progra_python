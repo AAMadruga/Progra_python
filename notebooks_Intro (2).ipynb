{
  "metadata": {
    "kernelspec": {
      "name": "python",
      "display_name": "Python (Pyodide)",
      "language": "python"
    },
    "language_info": {
      "codemirror_mode": {
        "name": "python",
        "version": 3
      },
      "file_extension": ".py",
      "mimetype": "text/x-python",
      "name": "python",
      "nbconvert_exporter": "python",
      "pygments_lexer": "ipython3",
      "version": "3.8"
    }
  },
  "nbformat_minor": 5,
  "nbformat": 4,
  "cells": [
    {
      "cell_type": "code",
      "source": "import pickle\n\nclass Coche:\n    def __init__(self, marca, modelo):\n        self.marca = marca\n        self.modelo = modelo\n\n    def __str__(self):\n        return f\"Coche(marca={self.marca}, modelo={self.modelo})\"\n\n# Crear una instancia de la clase Coche\ncoche = Coche(\"Toyota\", \"Corolla\")\n\n# Serializar el objeto y almacenarlo en un archivo pickle\nwith open(\"coche.pickle\", \"wb\") as archivo:\n    pickle.dump(coche, archivo)\n\n# Recuperar el contenido del archivo y deserializarlo\nwith open(\"coche.pickle\", \"rb\") as archivo:\n    coche_recuperado = pickle.load(archivo)\n\n# Imprimir el objeto original y el objeto recuperado\nprint(\"Objeto original:\", coche)\nprint(\"Objeto recuperado:\", coche_recuperado)",
      "metadata": {
        "trusted": true
      },
      "execution_count": 3,
      "outputs": [
        {
          "name": "stdout",
          "text": "Objeto original: Coche(marca=Toyota, modelo=Corolla)\nObjeto recuperado: Coche(marca=Toyota, modelo=Corolla)\n",
          "output_type": "stream"
        }
      ],
      "id": "c7fb94e8-929f-4c44-977c-e34274fbdc73"
    },
    {
      "cell_type": "code",
      "source": "",
      "metadata": {},
      "execution_count": null,
      "outputs": [],
      "id": "30af9241-48b7-4f83-bcf0-429c9333a755"
    }
  ]
}