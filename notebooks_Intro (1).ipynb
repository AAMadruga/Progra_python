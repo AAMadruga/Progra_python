{
  "metadata": {
    "kernelspec": {
      "name": "python",
      "display_name": "Python (Pyodide)",
      "language": "python"
    },
    "language_info": {
      "codemirror_mode": {
        "name": "python",
        "version": 3
      },
      "file_extension": ".py",
      "mimetype": "text/x-python",
      "name": "python",
      "nbconvert_exporter": "python",
      "pygments_lexer": "ipython3",
      "version": "3.8"
    }
  },
  "nbformat_minor": 5,
  "nbformat": 4,
  "cells": [
    {
      "cell_type": "code",
      "source": "class Coche:\n    def __init__(self, marca, modelo):\n        self.marca = marca\n        self.modelo = modelo\n\n    @property\n    def descripcion(self):\n        return f\"Soy un coche de marca {self.marca} y modelo {self.modelo}\"\n\n    def arrancar(self):\n        print(\"¡Vroom! ¡Vroom!\")\n\n# Crear una instancia de la clase Coche\ncoche1 = Coche(\"Toyota\", \"Corolla\")\n\n# Acceder a los atributos\nprint(coche1.marca)  # Output: Toyota\nprint(coche1.modelo)  # Output: Corolla\n\n# Acceder a la propiedad\nprint(coche1.descripcion)  # Output: Soy un coche de marca Toyota y modelo Corolla\n\n# Llamar a un método\ncoche1.arrancar()  # Output: ¡Vroom! ¡Vroom!",
      "metadata": {
        "trusted": true
      },
      "execution_count": 2,
      "outputs": [
        {
          "name": "stdout",
          "text": "Toyota\nCorolla\nSoy un coche de marca Toyota y modelo Corolla\n¡Vroom! ¡Vroom!\n",
          "output_type": "stream"
        }
      ],
      "id": "8ba67d1e-56f6-4de8-b5d5-f75012f48ab5"
    },
    {
      "cell_type": "code",
      "source": "",
      "metadata": {},
      "execution_count": null,
      "outputs": [],
      "id": "c7fb94e8-929f-4c44-977c-e34274fbdc73"
    }
  ]
}